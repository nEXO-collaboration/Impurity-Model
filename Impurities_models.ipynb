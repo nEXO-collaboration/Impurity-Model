{
 "cells": [
  {
   "cell_type": "markdown",
   "metadata": {},
   "source": [
    "# Impurity Model for nEXO\n",
    "\n",
    "This analysis focuses on studying the impact of electronegative impurities in certain environments. We will go through a series of calculations and visual representations to understand this phenomenon better. See Ako Jamil's thesis chapter 4.2 for reference.\n",
    "\n",
    "The class `Outgassing_setup` will load the necessary information from `library.json` by defining 4 key parameters: The name of the system (`Setup`), the material inside that setup that is outgassing (`Material`), the gas species that is dissolved inside the material (`Solute`) and the dimension of that piece of material (`Version`).\n",
    "\n",
    "Data units and infos are written in the ReadMe document."
   ]
  },
  {
   "cell_type": "code",
   "execution_count": null,
   "metadata": {},
   "outputs": [],
   "source": [
    "import toucan as tc\n",
    "import matplotlib.pyplot as plt"
   ]
  },
  {
   "cell_type": "markdown",
   "metadata": {},
   "source": [
    "# Modelling outgassing of impurities\n",
    "\n",
    "**For models that are temperature dependant (only impurities & plastics flow rates for now):** When multiple timestamps are defined, each timestamp will correspond to a specific set of temperatures, and the number of temperatures specified should match the number of timestamps. However, if there is only one timestamp defined, you have the flexibility to include as many temperatures as needed, and all of these temperatures will be plotted on the single timestamp.\n",
    "\n",
    "For now `get_flow_rate_vs_time` needs `get_impurities_vs_time` to be runned before, to be able to get initial impurities for each timestamps."
   ]
  },
  {
   "cell_type": "markdown",
   "metadata": {},
   "source": [
    "### Desorption from Stainless Steel\n",
    "\n",
    "Stainless steel desorption evolution with pumping time can be calculated using an empirical law, given the outgassing flow rate from an unbaked stainless steel surface after an initial pumping time."
   ]
  },
  {
   "cell_type": "code",
   "execution_count": null,
   "metadata": {},
   "outputs": [],
   "source": [
    "# Defining the system\n",
    "Exo_200_steel = tc.Outgassing_setup(\n",
    "    setup=\"EXO-200\",\n",
    "    material=\"Stainless-Steel\",\n",
    "    solute=\"Oxygen\",\n",
    "    version=\"EXO-Stainless-Steel\",\n",
    ")\n",
    "\n",
    "# Set time regions\n",
    "steel_timestamps = tc.get_time_stamps(points=[1e-1, 1e4], spacing=1, time_scale=\"Hours\")\n",
    "\n",
    "print(Exo_200_steel)  # Using the method __str__\n",
    "\n",
    "# Calculate outgassing rate, with initial_pumped_time given in seconds\n",
    "steel_flow_rates = Exo_200_steel.get_steel_flow_rate_vs_pumping_time(\n",
    "    time=steel_timestamps, unbaked_flow_rate=1e-8, initial_pumped_time=2600\n",
    ")"
   ]
  },
  {
   "cell_type": "code",
   "execution_count": null,
   "metadata": {},
   "outputs": [],
   "source": [
    "# Configuring the outgassing rate plot\n",
    "plt.figure(figsize=(10, 6))\n",
    "# plt.title(f'Outgassing rate of mono-layers of impurities on stainless steel walls as a function of pumping time in EXO-200')\n",
    "plt.xlabel(\"Time (hours)\")\n",
    "plt.ylabel(\"Outgassing Rate (mbar.l/s)\")\n",
    "plt.yscale(\"log\")\n",
    "plt.xscale(\"log\")\n",
    "plt.grid(which=\"both\", linestyle=\"--\", linewidth=\"0.5\", color=\"gray\")\n",
    "\n",
    "# Convert time from seconds to hours for the plot\n",
    "time_in_hours = [t / 3600 for t in steel_timestamps[0]]\n",
    "\n",
    "label = f\"{Exo_200_steel.version}, Area (cm²)={Exo_200_steel.area}\"\n",
    "plt.plot(time_in_hours, steel_flow_rates[0], label=label)\n",
    "\n",
    "plt.legend()\n",
    "plt.show()"
   ]
  },
  {
   "cell_type": "markdown",
   "metadata": {},
   "source": [
    "### Outgassing from plastics\n",
    "\n",
    "Also using the class `Outgassing_setup`, but this time calling methods solving the diffusion equation to get the number of impurities, and Fick's 1st law to get the outgassing rates."
   ]
  },
  {
   "cell_type": "code",
   "execution_count": null,
   "metadata": {},
   "outputs": [],
   "source": [
    "# Defining the system\n",
    "Nexo_kapton = tc.Outgassing_setup(\n",
    "    setup=\"nEXO\", material=\"Kapton\", solute=\"Oxygen\", version=\"nEXO-Kapton\"\n",
    ")\n",
    "\n",
    "# Define or change other parameters of the system\n",
    "Nexo_kapton.temperatures = [293, 164]\n",
    "Nexo_kapton.activation_energy = 0.47\n",
    "\n",
    "# Set time regions for the above defined temperature values\n",
    "kapton_timestamps = tc.get_time_stamps(\n",
    "    points=[1e-1, 1e2], spacing=0.1, time_scale=\"Seconds\"\n",
    ")\n",
    "\n",
    "print(Nexo_kapton)"
   ]
  },
  {
   "cell_type": "markdown",
   "metadata": {},
   "source": [
    "Calculate impurities and outgassing by first getting the diffusion constants for the above defined temperatures using the Arrhenius equation, then getting the initial number of impurities from model parameters (in total number of impurities `'#'`, or ratio between number of impurities and number of xenon atoms in the setup `'ppm','ppb','ppt'` or total mass of impurities `'Mass'`)."
   ]
  },
  {
   "cell_type": "code",
   "execution_count": null,
   "metadata": {},
   "outputs": [],
   "source": [
    "# Calculate diffusion constants and initial impurities.\n",
    "Nexo_kapton.get_diff_temp()\n",
    "Nexo_kapton.get_initial_impurities(units=\"#\")\n",
    "\n",
    "# Calculate the number of impurities & outgassing rates with time.\n",
    "kapton_impurities = Nexo_kapton.get_impurities_vs_time(time=kapton_timestamps)\n",
    "\n",
    "kapton_flow_rates = Nexo_kapton.get_flow_rate_vs_time(\n",
    "    time=kapton_timestamps, impurities=kapton_impurities, units=\"mBar Liter\"\n",
    ")"
   ]
  },
  {
   "cell_type": "code",
   "execution_count": null,
   "metadata": {},
   "outputs": [],
   "source": [
    "# Configuring the impurities plot\n",
    "plt.figure(figsize=(10, 6))\n",
    "plt.xlabel(\"Time [Days]\")\n",
    "plt.ylabel(\"Total Number of Impurities\")\n",
    "plt.yscale(\"log\")\n",
    "plt.grid(which=\"both\", linestyle=\"--\", linewidth=0.5, color=\"gray\")\n",
    "plt.minorticks_on()\n",
    "\n",
    "# Iterating through the dataset\n",
    "for time_data, impurities, temperature in zip(\n",
    "    (\n",
    "        kapton_timestamps\n",
    "        if len(kapton_timestamps) > 1\n",
    "        else [kapton_timestamps[0]] * len(kapton_impurities)\n",
    "    ),\n",
    "    kapton_impurities,\n",
    "    Nexo_kapton.temperatures,\n",
    "):\n",
    "    label = f\"{Nexo_kapton.version}, Thickness (cm)={Nexo_kapton.thickness}, Temperature (K)={temperature}\"\n",
    "    plt.plot(time_data, impurities, label=label)\n",
    "\n",
    "plt.legend()\n",
    "plt.show()"
   ]
  },
  {
   "cell_type": "code",
   "execution_count": null,
   "metadata": {},
   "outputs": [],
   "source": [
    "# Configuring the outgassing rate plot\n",
    "plt.figure(figsize=(10, 6))\n",
    "plt.xlabel(\"Time [Days]\")\n",
    "plt.ylabel(r\"Outgassing Rate [mBar$\\,\\cdot\\,$Liter/s]\")\n",
    "plt.xscale(\"log\")\n",
    "plt.yscale(\"log\")\n",
    "plt.grid(which=\"both\", linestyle=\"--\", linewidth=0.5, color=\"gray\")\n",
    "plt.minorticks_on()\n",
    "\n",
    "# Iterating through the dataset\n",
    "for time_data, flow_rates, temperature in zip(\n",
    "    (\n",
    "        kapton_timestamps\n",
    "        if len(kapton_timestamps) > 1\n",
    "        else [kapton_timestamps[0]] * len(kapton_flow_rates)\n",
    "    ),\n",
    "    kapton_flow_rates,\n",
    "    Nexo_kapton.temperatures,\n",
    "):\n",
    "    label = f\"{Nexo_kapton.version}, Area (cm2)={Nexo_kapton.area}, Temperature (K)={temperature}\"\n",
    "    plt.plot(time_data, flow_rates, label=label)\n",
    "\n",
    "plt.legend()\n",
    "plt.show()"
   ]
  },
  {
   "cell_type": "markdown",
   "metadata": {},
   "source": [
    "It is also possible to use automatic plotting by formatting the data correctly."
   ]
  },
  {
   "cell_type": "code",
   "execution_count": null,
   "metadata": {},
   "outputs": [],
   "source": [
    "# Defining the system\n",
    "Nexo_teflon = tc.Outgassing_setup(\n",
    "    setup=\"EXO-200\", material=\"Teflon\", solute=\"Oxygen\", version=\"EXO-Teflon\"\n",
    ")\n",
    "\n",
    "# Define other parameters and time regions of the system\n",
    "Nexo_teflon.temperatures = [293, 164]\n",
    "time_scale = \"Days\"  # Define the time scale here\n",
    "teflon_timestamps = tc.get_time_stamps(\n",
    "    points=[0, 2, 20], spacing=1 / (24 * 60), time_scale=time_scale\n",
    ")\n",
    "\n",
    "# Calculate diffusion constants and initial impurities.\n",
    "Nexo_teflon.get_diff_temp()\n",
    "Nexo_teflon.get_initial_impurities(units=\"#\")\n",
    "\n",
    "# Calculate the number of impurities & outgassing rates with time.\n",
    "teflon_impurities = Nexo_teflon.get_impurities_vs_time(time=teflon_timestamps)\n",
    "teflon_flow_rates = Nexo_teflon.get_flow_rate_vs_time(\n",
    "    time=teflon_timestamps, impurities=teflon_impurities, units=\"mBar Liter\"\n",
    ")"
   ]
  },
  {
   "cell_type": "code",
   "execution_count": null,
   "metadata": {},
   "outputs": [],
   "source": [
    "# Automatic plotting\n",
    "# Preparing data for the function\n",
    "impurities_data = [\n",
    "    (\n",
    "        time_data,\n",
    "        impurity,\n",
    "        f\"{Nexo_teflon.version}, Thickness (cm)={Nexo_teflon.thickness}, Temperature (K)={temp}\",\n",
    "    )\n",
    "    for time_data, impurity, temp in zip(\n",
    "        teflon_timestamps, teflon_impurities, Nexo_teflon.temperatures\n",
    "    )\n",
    "]\n",
    "flow_rates_data = [\n",
    "    (\n",
    "        time_data,\n",
    "        flow_rate,\n",
    "        f\"{Nexo_teflon.version}, Thickness (cm)={Nexo_teflon.thickness}, Temperature (K)={temp}\",\n",
    "    )\n",
    "    for time_data, flow_rate, temp in zip(\n",
    "        teflon_timestamps, teflon_flow_rates, Nexo_teflon.temperatures\n",
    "    )\n",
    "]\n",
    "\n",
    "# Plotting outgassing rates\n",
    "tc.plot_data(\n",
    "    fig_size=(10, 6),\n",
    "    x_label=f\"Time [{time_scale}]\",\n",
    "    y_label=r\"Outgassing Rate [mBar$\\,\\cdot\\,$Liter/s]\",\n",
    "    data_sets=flow_rates_data,\n",
    "    y_scale=\"log\",\n",
    "    time_unit=time_scale,\n",
    ")"
   ]
  },
  {
   "cell_type": "markdown",
   "metadata": {},
   "source": [
    "It is also possible to run modelling for multiple setups together by creating an instance of the System class for each setup."
   ]
  },
  {
   "cell_type": "code",
   "execution_count": null,
   "metadata": {},
   "outputs": [],
   "source": [
    "# Creating instances for each setup\n",
    "Ylps_exo_teflon = tc.Outgassing_setup(\n",
    "    setup=\"YLXPS\", material=\"Teflon\", solute=\"Oxygen\", version=\"EXO-Teflon\"\n",
    ")\n",
    "Ylps_stock_teflon = tc.Outgassing_setup(\n",
    "    setup=\"YLXPS\", material=\"Teflon\", solute=\"Oxygen\", version=\"Stock-Teflon\"\n",
    ")\n",
    "Ylps_colombia_teflon = tc.Outgassing_setup(\n",
    "    setup=\"YLXPS\", material=\"Teflon\", solute=\"Oxygen\", version=\"Columbia-Teflon\"\n",
    ")\n",
    "\n",
    "# Combining into one list\n",
    "Ylps_all_teflon = [Ylps_exo_teflon, Ylps_stock_teflon, Ylps_colombia_teflon]\n",
    "teflon_impurities = []\n",
    "teflon_flow_rates = []\n",
    "\n",
    "for system in Ylps_all_teflon:\n",
    "    system.temperatures = [295, 340]\n",
    "    teflon_timestamps = tc.get_time_stamps(\n",
    "        points=[0, 100, 200], spacing=1, time_scale=\"Hours\"\n",
    "    )\n",
    "\n",
    "    system.get_diff_temp()\n",
    "    system.get_initial_impurities(units=\"#\")\n",
    "    teflon_impurities.append(system.get_impurities_vs_time(time=teflon_timestamps))\n",
    "    teflon_flow_rates.append(\n",
    "        system.get_flow_rate_vs_time(\n",
    "            teflon_timestamps, impurities=teflon_impurities[-1], units=\"mBar Liter\"\n",
    "        )\n",
    "    )"
   ]
  },
  {
   "cell_type": "code",
   "execution_count": null,
   "metadata": {},
   "outputs": [],
   "source": [
    "# Configuring the plot\n",
    "plt.figure(figsize=(10, 6))\n",
    "plt.xlabel(\"Time [Days]\")\n",
    "plt.ylabel(\"Total Number of Impurities\")\n",
    "plt.yscale(\"log\")\n",
    "plt.grid(which=\"both\", linestyle=\"--\", linewidth=0.5, color=\"gray\")\n",
    "plt.minorticks_on()\n",
    "\n",
    "# Plot data\n",
    "for i, system in enumerate(Ylps_all_teflon):\n",
    "    # Iterating through the dataset\n",
    "    for time_data, impurities, temperature in zip(\n",
    "        (\n",
    "            teflon_timestamps\n",
    "            if len(teflon_timestamps) > 1\n",
    "            else [teflon_timestamps[0]] * len(teflon_impurities[i])\n",
    "        ),\n",
    "        teflon_impurities[i],\n",
    "        system.temperatures,\n",
    "    ):\n",
    "        label = f\"{system.version}, Thickness (cm)={system.thickness}, Temperature (K)={temperature}\"\n",
    "        plt.plot(time_data, impurities, label=label)\n",
    "\n",
    "# Set legend and plot\n",
    "plt.legend()\n",
    "plt.show()"
   ]
  },
  {
   "cell_type": "markdown",
   "metadata": {},
   "source": [
    "# Electron lifetime prediction\n",
    "\n"
   ]
  },
  {
   "cell_type": "markdown",
   "metadata": {},
   "source": [
    "Predict the electron lifetime evolution with different parameters in a specific system. Use the liquid xenon purification model defined in the presentation \"Screening for Electronegative Impurities\" by David Moore the 12/07/2022."
   ]
  },
  {
   "cell_type": "code",
   "execution_count": null,
   "metadata": {},
   "outputs": [],
   "source": [
    "# Defining the system\n",
    "Nexo_electron_lifetime = tc.Outgassing_setup(\n",
    "    setup=\"nEXO\",\n",
    "    material=\"Stainless-Steel\",\n",
    "    solute=\"Oxygen\",\n",
    "    version=\"EXO-Stainless-Steel\",\n",
    ")\n",
    "\n",
    "# Set time regions\n",
    "lifetime_timestamps = tc.get_time_stamps(\n",
    "    points=[0, 60], spacing=1 / 24, time_scale=\"Days\"\n",
    ")\n",
    "\n",
    "print(Nexo_electron_lifetime)"
   ]
  },
  {
   "cell_type": "code",
   "execution_count": null,
   "metadata": {},
   "outputs": [],
   "source": [
    "# Loop on a list of different input values, here total out-diffusion rate\n",
    "out_diffusion_values = [1, 0.1, 0.01]\n",
    "\n",
    "# Define lists to store results\n",
    "electron_lifetime_results = []\n",
    "params_results = []\n",
    "\n",
    "for out_diffusion_value in out_diffusion_values:\n",
    "    (\n",
    "        electron_lifetimes,\n",
    "        params,\n",
    "    ) = Nexo_electron_lifetime.get_electron_lifetime_vs_time(\n",
    "        time=lifetime_timestamps,\n",
    "        initial_impurities=1,\n",
    "        circulation_rate=200 / 60,\n",
    "        purification_efficiency=1,\n",
    "        out_diffusion=out_diffusion_value,\n",
    "    )\n",
    "\n",
    "    electron_lifetime_results.append(electron_lifetimes)\n",
    "    params_results.append(params)"
   ]
  },
  {
   "cell_type": "code",
   "execution_count": null,
   "metadata": {},
   "outputs": [],
   "source": [
    "# Configuring the plot\n",
    "plt.figure(figsize=(10, 6))\n",
    "\n",
    "plt.xlabel(\"Time (days)\")\n",
    "plt.ylabel(\"Electron Lifetime (ms)\")\n",
    "plt.yscale(\"log\")\n",
    "plt.grid(True)\n",
    "\n",
    "# Converting time from seconds to days\n",
    "time_in_days = [t / 86400 for t in lifetime_timestamps[0]]\n",
    "\n",
    "# Loop through each out_diffusion_value and its corresponding results\n",
    "for i, out_diffusion_value in enumerate(out_diffusion_values):\n",
    "    electron_lifetimes = electron_lifetime_results[i]\n",
    "    params = params_results[i]\n",
    "\n",
    "    # Plotting, while dividing 'seconds' by the number of seconds in a day to convert to days\n",
    "    label = f\"Out Diffusion rate (ppb.l/s)={params['out_diffusion']}, Flow rate (SLPM)={params['circulation_rate']*60}, Efficiency={params['purification_efficiency']}\"\n",
    "    plt.plot(time_in_days, electron_lifetimes, label=label)\n",
    "\n",
    "plt.legend()\n",
    "plt.show()"
   ]
  }
 ],
 "metadata": {
  "kernelspec": {
   "display_name": "Python 3",
   "language": "python",
   "name": "python3"
  },
  "language_info": {
   "codemirror_mode": {
    "name": "ipython",
    "version": 3
   },
   "file_extension": ".py",
   "mimetype": "text/x-python",
   "name": "python",
   "nbconvert_exporter": "python",
   "pygments_lexer": "ipython3",
   "version": "3.12.1"
  }
 },
 "nbformat": 4,
 "nbformat_minor": 2
}
